{
 "cells": [
  {
   "cell_type": "markdown",
   "id": "ef555076-9553-43ac-8c19-f2ce3ea7243b",
   "metadata": {},
   "source": [
    "<center>\n",
    "<h1>PUBLIC TRANSPORTATION ROUTING SYSTEM</h1>\n",
    "</cenr>\n",
    "\n"
   ]
  },
  {
   "cell_type": "markdown",
   "id": "6d26bcf3-7801-4c2e-a1e5-37f118a2ebfe",
   "metadata": {},
   "source": [
    "### INTRODUCTION\n",
    "A Public Transportation Routing System helps passengers find the best and most efficient routes using buses, trains, or other public transport options. To achieve this, the system uses:"
   ]
  },
  {
   "cell_type": "markdown",
   "id": "db6cc5b2-a141-41b1-b358-0152862df295",
   "metadata": {},
   "source": [
    "**Priority Queue for Route Optimization**:\n",
    "The priority queue is used to compute the best routes by ordering the alternatives according to travel time, stops, or congestion levels. It automatically determines the shortest or fastest route for the sake of overall travel effectiveness.\n",
    "\n",
    "**Linked List for Transportation Schedule Tracking** –A linked list data structure helps manage transportation timetables by maintaining an ordered and readily updatable list of arrival and departure times. This allows for timely updating when timetables are changed, delivering accurate and real-time tracking of public transportation services.\n",
    "\n",
    "**Efficient Route Planning** – Using effective data structures like priority queues and linked lists, the system efficiently computes and suggests the most efficient available routes. This enhances public transport reliability through reduced delays and enhanced passenger satisfaction.\n",
    "<hr>\n",
    "\n"
   ]
  },
  {
   "cell_type": "markdown",
   "id": "46ed1221-592f-4819-a0cc-15100a40b9ab",
   "metadata": {},
   "source": [
    "### Code Structure and Design\n",
    "\n",
    "Our project contains of three major components:\n",
    "1. **Priority Queue (Min-Heap) for Route Optimization**\n",
    "2. **Linked List for Schedule Tracking** \n",
    "3. **Route Planning System**\n",
    "<hr>"
   ]
  },
  {
   "cell_type": "markdown",
   "id": "64f74526-b8e6-4a8c-a87e-d3e6883011f0",
   "metadata": {},
   "source": [
    "### DATA STRUCTURES USED\n",
    "1.Binary Heap Data Structure \\\n",
    "2.Linked List Data Structure "
   ]
  },
  {
   "cell_type": "markdown",
   "id": "9f2f2b9f-7c28-4257-9a9b-fee8c50e0e5b",
   "metadata": {},
   "source": [
    "### HOW DO THESE DATA STRUCTURES WORK?\n"
   ]
  },
  {
   "attachments": {},
   "cell_type": "markdown",
   "id": "e115f21d-155a-4237-8a79-a0f0e4c9fe23",
   "metadata": {},
   "source": [
    "1. BINARY HEAP DATA STRUCTURE\n",
    "   The conditions for a binary heap data structure are as follows:\n",
    "\n",
    "   1. Complete Binary Tree Property(Known as Strutural Property)\n",
    "          All levels of the tree are completely filled except possibly the last level.\r",
    "          \n",
    "The last level is filled from left to right without any gaps\n",
    "   2. Heap Property (Known as Ordering Property)\n",
    "          The values in the nodes must satisfy the heap property, which depends on the type of heap:\\\n",
    "        \n",
    "2. LINKED LIST DATA STRUCTURE\n",
    "\n",
    "   A Linked List is a linear data structure used for storing a collection of elements. Unlike arrays, linked lists use nodes to store elements which are    not stored in contiguous memory locations.<hr>\n",
    "   \n",
    "\n"
   ]
  },
  {
   "cell_type": "markdown",
   "id": "caef1428-4cb2-416a-8501-a1476cdb06b7",
   "metadata": {},
   "source": [
    "### CODE STRUCTURE AND DESIGN \n",
    "\n",
    "1. Binary heap for the priority queue. \n",
    "2. Dikstra's Algorithim for route optimization.\n",
    "3. Linked list for schedule tracking.\n",
    "\n",
    "##### CS\n",
    "\n",
    "1. Creating a Station class. This Node class will  represent the transporation station.\n",
    "\n",
    "   This will also contain attributes of the Station class such as station_id, distance_from_start, adjacency list and previous_station.\n",
    "\n",
    "\n",
    "2. Binary Heap Implementation for PriorityQueue Class. This class will contain heap attribute. This heap attribute will store the nodes with priority.\n",
    "\n",
    "   It will contain 3 three methods. Push,pop and isempty. Push adds a node with given priority, pop removes the node with highest priority and isempty checks whether the queue is empty.\n",
    "\n",
    "3. We create a class called \"ScheduleNode\" - This class is a node in a linked list. \n",
    "It basically connects to other schedule nodes(like bus and other transport services which are linked together)\n",
    "\n",
    "    Attributes used are:\n",
    "   1. self.routeId= routeId: This object stores the route of the travel from point A to B.\n",
    "   2. self.startTime=startTime: This object stores the (starting) time of the journey.\n",
    "   3. self.endTime = end time:  This object stores the (ending) time of the journey.\n",
    "   4. self.next= None : This is a pointer ( This is like a bookmark which stores  something in memory - to actually find the memory stored - like a    bookmark in the book to get bavk to the page) to schedule the next destination.\n",
    "  \n",
    "4. Create An ScheduleList Class, Which Is The Implementation Of Linked List,It Tracks The Transportation Schedules Using Linked List.\n",
    "   The Attributes Used Here Are \"head\" Which Points To The First Schedule For The Transportation.\n",
    "    ##### The Methods Used Here Are \n",
    "    -->add_schedule(routeId,starttime,endtime): Which Adds An New Schedule To The Linked List \\\n",
    "    -->get_schedules(): Which Gets All The Schedukes As An List of Dictionaries.\n",
    "\n",
    "5. Create An TransportationRoutingSystem Class,Which Manages The Entrie Transportation Routing System.\\\n",
    "The Attributes Used Here Are \"graph\" For Graph Reprenstation And \"schedules\" Which Is An Instance Of SceduleList For Managing Schedules.\n",
    "    ##### The Methods Used Here Are\n",
    "    -->dijkstra: Implements The Dijkstra Algoritm To Compute The Shortest Paths.\\\n",
    "    -->get_shortest_path(startid,endid): Gets The Shortest Path From startid to endid.\\\n",
    "    -->add_stop(stopid,neighbors): Adds A Stop With The Neighbors And The Cost To The Graph.\\\n",
    "    -->add_schedule(routeid,starttime,endtime): Adds A Schedule To The Linked List.\n"
   ]
  },
  {
   "cell_type": "code",
   "execution_count": 32,
   "id": "527cef12-0a2d-42bf-9594-6b5f614bb3e1",
   "metadata": {},
   "outputs": [],
   "source": [
    "#\n",
    "class Station:\n",
    "    def __init__(self, station_id, distance=float('inf')):\n",
    "        self.station_id = station_id  # Unique identifier for the station\n",
    "        self.distance_from_start = distance  # Distance from the starting station\n",
    "        self.adjacency_list = []  # List of (neighboring_station, travel_time)\n",
    "        self.previous_station = None  # Reference to the previous station in the shortest path\n",
    "\n",
    "#Priority queue \n",
    "class MinHeap:\n",
    "    def __init__(self):\n",
    "        self.elements = []  # List to store heap elements\n",
    "\n",
    "    def push(self, priority, station):\n",
    "        # Add a new element to the heap\n",
    "        self.elemen0ts.append((priority, station))\n",
    "        self.elements.sort(key=lambda x: x[0])  # Sort by priority (travel time)\n",
    "\n",
    "    def pop(self):\n",
    "        # Remove and return the station with the smallest priority\n",
    "        return self.elements.pop(0) if self.elements else None\n",
    "\n",
    "    def is_empty(self):\n",
    "        # Check if the heap is empty\n",
    "        return len(self.elements) == 0\n",
    "\n",
    "# -------------------- Linked List Classes ----------------\n",
    "class ScheduleEntry:\n",
    "    def __init__(self, route_id, start_time, end_time):\n",
    "        self.route_id = route_id  # Identifier for the route\n",
    "        self.start_time = start_time  # Start time of the route\n",
    "        self.end_time = end_time  # End time of the route\n",
    "        self.next_entry = None  # Reference to the next schedule entry\n",
    "\n",
    "class ScheduleList:\n",
    "    def __init__(self):\n",
    "        self.head_entry = None  # Head of the linked list\n",
    "\n",
    "    def add_schedule(self, route_id, start_time, end_time):\n",
    "        new_entry = ScheduleEntry(route_id, start_time, end_time)\n",
    "        if not self.head_entry:\n",
    "            self.head_entry = new_entry\n",
    "        else:\n",
    "            current = self.head_entry\n",
    "            while current.next_entry:\n",
    "                current = current.next_entry\n",
    "            current.next_entry = new_entry\n",
    "\n",
    "    def get_schedules(self):\n",
    "        schedules = []\n",
    "        current = self.head_entry\n",
    "        while current:\n",
    "            schedules.append((current.route_id, current.start_time, current.end_time))\n",
    "            current = current.next_entry\n",
    "        return schedules\n",
    "\n",
    "# ----------------- Transportation System Class -----------------\n",
    "class TransportationSystem:\n",
    "    def __init__(self):\n",
    "        self.stations_graph = {}  # Dictionary of station_id -> Station\n",
    "        self.schedule_list = ScheduleList()  # List of transportation schedules\n",
    "\n",
    "    def dijkstra(self, start_id):\n",
    "        # Implement Dijkstra's algorithm for shortest path\n",
    "        if start_id not in self.stations_graph:\n",
    "            return None\n",
    "\n",
    "\n",
    "    def get_shortest_path(self, start_id, end_id):\n",
    "        # Construct the shortest path from start_id to end_id\n",
    "        if start_id not in self.stations_graph or end_id not in self.stations_graph:\n",
    "            return None\n",
    "\n",
    "    def add_schedule(self, route_id, start_time, end_time):\n",
    "        self.schedule_list.add_schedule(route_id, start_time, end_time)\n",
    "  \n",
    "    def get_schedules(self):\n",
    "        return self.schedule_list.get_schedules()"
   ]
  },
  {
   "cell_type": "code",
   "execution_count": null,
   "id": "f9f728cc-a6a5-4624-b339-c705508b8221",
   "metadata": {},
   "outputs": [],
   "source": []
  },
  {
   "cell_type": "code",
   "execution_count": null,
   "id": "97b2d63e-a137-411c-be35-912006cbb0d6",
   "metadata": {},
   "outputs": [],
   "source": []
  }
 ],
 "metadata": {
  "kernelspec": {
   "display_name": "Python 3 (ipykernel)",
   "language": "python",
   "name": "python3"
  },
  "language_info": {
   "codemirror_mode": {
    "name": "ipython",
    "version": 3
   },
   "file_extension": ".py",
   "mimetype": "text/x-python",
   "name": "python",
   "nbconvert_exporter": "python",
   "pygments_lexer": "ipython3",
   "version": "3.12.4"
  }
 },
 "nbformat": 4,
 "nbformat_minor": 5
}
